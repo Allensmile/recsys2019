{
 "cells": [
  {
   "cell_type": "code",
   "execution_count": 387,
   "metadata": {},
   "outputs": [],
   "source": [
    "import keras as ks\n",
    "import numpy as np\n",
    "import json\n",
    "from seq_vectorizers import DeepListVectorizer\n",
    "from collections import defaultdict\n",
    "from tqdm import tqdm\n",
    "from keras.preprocessing.sequence import pad_sequences\n",
    "from sklearn.preprocessing import LabelEncoder, LabelBinarizer, StandardScaler\n",
    "from recsys.metric import mrr_fast_v2\n",
    "import pandas as pd"
   ]
  },
  {
   "cell_type": "code",
   "execution_count": 12,
   "metadata": {},
   "outputs": [],
   "source": [
    "with open(\"lstm_data.ndjson\", encoding=\"utf-8\") as inp:\n",
    "    data = list(map(json.loads, inp.readlines()))"
   ]
  },
  {
   "cell_type": "code",
   "execution_count": 432,
   "metadata": {},
   "outputs": [],
   "source": [
    "PAD = 25"
   ]
  },
  {
   "cell_type": "code",
   "execution_count": 447,
   "metadata": {},
   "outputs": [],
   "source": [
    "class Vectorizer():\n",
    "\n",
    "    pad = PAD\n",
    "    \n",
    "    def fit(self, data):\n",
    "        # fit static vectorizers\n",
    "        self.vectorizers = {}\n",
    "        for key in [\"platform\", \"city\"]:\n",
    "            v = DeepListVectorizer(onehot=False, depth=0)\n",
    "            self.vectorizers[key] = v\n",
    "            self.vectorizers[key].fit([row[key] for row in data])\n",
    "        \n",
    "        # fit sequence vectorizers\n",
    "        lists = defaultdict(list)\n",
    "        values = defaultdict(set)\n",
    "        for obs in tqdm(data):\n",
    "            for seq in obs['sequences']:\n",
    "                if seq.endswith('cat'):\n",
    "                    lists[seq].append(obs['sequences'][seq])\n",
    "                    for v in obs['sequences'][seq]:\n",
    "                        values[seq].add(v)\n",
    "\n",
    "        self.seq_vectorizers = {}\n",
    "        for key in values:\n",
    "            if len(values[key]) < 30:\n",
    "                self.seq_vectorizers[key] = DeepListVectorizer(onehot=True)\n",
    "            else:\n",
    "                self.seq_vectorizers[key] = DeepListVectorizer(onehot=False, size=500)\n",
    "            self.seq_vectorizers[key].fit(lists[key])\n",
    "        \n",
    "        return self\n",
    "\n",
    "    def transform(self, data):\n",
    "        X = defaultdict(list)\n",
    "        \n",
    "        for key in [\"platform\", \"city\"]:\n",
    "            vectorized = self.vectorizers[key].transform([row[key] for row in data])\n",
    "            X[key] = vectorized\n",
    "                    \n",
    "        X[\"prices\"] = np.log1p(np.array([(row[\"final_prices\"] + [0]*25)[:25] for row in data]))\n",
    "        \n",
    "        for obs in tqdm(data):\n",
    "            for key, vect in self.seq_vectorizers.items():\n",
    "                if key.endswith(\"cat\"):\n",
    "                    if key not in [\"action type cat\", \n",
    "                                   \"clickout item cat\", \n",
    "                                   \"interaction item image cat\", \n",
    "                                   \"interaction item info cat\",\n",
    "                                   \"interaction item rating cat\",\n",
    "                                   \"interaction item deals cat\",\n",
    "                                   \"change of sort order cat\",\n",
    "                                   \"filter selection cat\"]:\n",
    "                        continue\n",
    "                    vectorized = vect.transform([obs['sequences'][key]])\n",
    "                    if vect.onehot:\n",
    "                        X[key].append(([[-100]*len(vect.idx)]*self.pad + vectorized[0])[-self.pad:])\n",
    "                    else:\n",
    "                        X[key].append([-100]*self.pad + vectorized[0])\n",
    "\n",
    "        for key in [\"clickout item num\"]:\n",
    "            X[key] = [[([-100]*self.pad + row[\"sequences\"][key])[-self.pad:]] for row in data]\n",
    "            X[key] = np.array(X[key]).transpose(0,2,1)\n",
    "            X[key] = X[key]/25\n",
    "            \n",
    "        for key in [\"timestamp diff num\"]:\n",
    "            X[key] = [[([-100]*self.pad + row[\"sequences\"][key])[-self.pad:]] for row in data]\n",
    "            X[key] = np.array(X[key]).transpose(0,2,1)\n",
    "            X[key] = np.log1p(X[key].clip(0, 180))\n",
    "            \n",
    "        for key in [\"count action num\"]:\n",
    "            X[key] = [[([-100]*self.pad + row[\"sequences\"][key])[-self.pad:]] for row in data]\n",
    "            X[key] = np.array(X[key]).transpose(0,2,1)\n",
    "            X[key] = np.log1p(X[key].clip(0, 50))\n",
    "            \n",
    "        X[\"device\"] = np.array([row['device']==\"desktop\" for row in data], dtype=np.float).reshape(-1,1)\n",
    "                        \n",
    "        X_ = {}\n",
    "        for key in X:\n",
    "            X_[key.replace(\" \", \"_\")] = np.array(X[key])\n",
    "        return X_"
   ]
  },
  {
   "cell_type": "code",
   "execution_count": 450,
   "metadata": {},
   "outputs": [
    {
     "name": "stderr",
     "output_type": "stream",
     "text": [
      "\n",
      "  0%|          | 0/28105 [00:00<?, ?it/s]\u001b[A\n",
      " 33%|███▎      | 9286/28105 [00:00<00:00, 92855.22it/s]\u001b[A\n",
      " 68%|██████▊   | 19075/28105 [00:00<00:00, 94310.38it/s]\u001b[A\n",
      "100%|██████████| 28105/28105 [00:00<00:00, 95612.09it/s]\u001b[A\n",
      "  0%|          | 0/28105 [00:00<?, ?it/s]\u001b[A\n",
      "  6%|▌         | 1571/28105 [00:00<00:01, 15686.45it/s]\u001b[A\n",
      " 12%|█▏        | 3391/28105 [00:00<00:01, 16318.92it/s]\u001b[A\n",
      " 17%|█▋        | 4722/28105 [00:00<00:01, 15279.73it/s]\u001b[A\n",
      " 23%|██▎       | 6399/28105 [00:00<00:01, 15697.63it/s]\u001b[A\n",
      " 30%|██▉       | 8341/28105 [00:00<00:01, 16653.47it/s]\u001b[A\n",
      " 37%|███▋      | 10330/28105 [00:00<00:01, 17506.89it/s]\u001b[A\n",
      " 42%|████▏     | 11927/28105 [00:00<00:00, 16302.27it/s]\u001b[A\n",
      " 48%|████▊     | 13466/28105 [00:00<00:00, 15754.00it/s]\u001b[A\n",
      " 54%|█████▍    | 15306/28105 [00:00<00:00, 16463.81it/s]\u001b[A\n",
      " 61%|██████    | 17088/28105 [00:01<00:00, 16847.56it/s]\u001b[A\n",
      " 68%|██████▊   | 19099/28105 [00:01<00:00, 17705.63it/s]\u001b[A\n",
      " 74%|███████▍  | 20867/28105 [00:01<00:00, 16871.72it/s]\u001b[A\n",
      " 81%|████████  | 22689/28105 [00:01<00:00, 17247.67it/s]\u001b[A\n",
      " 88%|████████▊ | 24645/28105 [00:01<00:00, 17881.74it/s]\u001b[A\n",
      " 95%|█████████▍| 26594/28105 [00:01<00:00, 18335.39it/s]\u001b[A\n",
      "100%|██████████| 28105/28105 [00:01<00:00, 17366.92it/s]\u001b[A\n",
      "  0%|          | 0/28105 [00:00<?, ?it/s]\u001b[A\n",
      "  7%|▋         | 2059/28105 [00:00<00:01, 20589.43it/s]\u001b[A\n",
      " 12%|█▏        | 3376/28105 [00:00<00:01, 17552.76it/s]\u001b[A\n",
      " 18%|█▊        | 4947/28105 [00:00<00:01, 16950.28it/s]\u001b[A\n",
      " 23%|██▎       | 6594/28105 [00:00<00:01, 16802.35it/s]\u001b[A\n",
      " 29%|██▉       | 8254/28105 [00:00<00:01, 16739.42it/s]\u001b[A\n",
      " 35%|███▍      | 9726/28105 [00:00<00:01, 16072.21it/s]\u001b[A\n",
      " 40%|████      | 11357/28105 [00:00<00:01, 16135.68it/s]\u001b[A\n",
      " 47%|████▋     | 13157/28105 [00:00<00:00, 16652.15it/s]\u001b[A\n",
      " 53%|█████▎    | 14980/28105 [00:00<00:00, 17095.76it/s]\u001b[A\n",
      " 60%|██████    | 16965/28105 [00:01<00:00, 17804.25it/s]\u001b[A\n",
      " 67%|██████▋   | 18786/28105 [00:01<00:00, 17912.00it/s]\u001b[A\n",
      " 73%|███████▎  | 20550/28105 [00:01<00:00, 17619.14it/s]\u001b[A\n",
      " 79%|███████▉  | 22304/28105 [00:01<00:00, 17594.13it/s]\u001b[A\n",
      " 86%|████████▋ | 24307/28105 [00:01<00:00, 18259.42it/s]\u001b[A\n",
      " 94%|█████████▎| 26294/28105 [00:01<00:00, 18714.25it/s]\u001b[A\n",
      "100%|██████████| 28105/28105 [00:01<00:00, 17622.48it/s]\u001b[A"
     ]
    },
    {
     "name": "stdout",
     "output_type": "stream",
     "text": [
      "action type cat 11\n",
      "clickout item cat 27\n",
      "interaction item info cat 28\n",
      "interaction item rating cat 27\n",
      "interaction item deals cat 27\n",
      "interaction item image cat 27\n",
      "filter selection cat 104\n",
      "change of sort order cat 10\n",
      "search for destination cat 500\n",
      "search for item cat 27\n",
      "search for poi cat 500\n"
     ]
    }
   ],
   "source": [
    "cutoff = len(data) // 2\n",
    "train_data = data[:cutoff]\n",
    "val_data = data[cutoff:]\n",
    "vect = Vectorizer()\n",
    "vect.fit(train_data)\n",
    "\n",
    "train_data_tr = vect.transform(train_data)\n",
    "val_data_tr = vect.transform(val_data)\n",
    "\n",
    "for key in vect.seq_vectorizers:\n",
    "    print(key, len(vect.seq_vectorizers[key].idx))"
   ]
  },
  {
   "cell_type": "code",
   "execution_count": 452,
   "metadata": {},
   "outputs": [
    {
     "name": "stdout",
     "output_type": "stream",
     "text": [
      "__________________________________________________________________________________________________\n",
      "Layer (type)                    Output Shape         Param #     Connected to                     \n",
      "==================================================================================================\n",
      "action_type_cat (InputLayer)    (None, 25, 11)       0                                            \n",
      "__________________________________________________________________________________________________\n",
      "clickout_item_cat (InputLayer)  (None, 25, 27)       0                                            \n",
      "__________________________________________________________________________________________________\n",
      "interaction_item_image_cat (Inp (None, 25, 27)       0                                            \n",
      "__________________________________________________________________________________________________\n",
      "interaction_item_info_cat (Inpu (None, 25, 28)       0                                            \n",
      "__________________________________________________________________________________________________\n",
      "interaction_item_rating_cat (In (None, 25, 27)       0                                            \n",
      "__________________________________________________________________________________________________\n",
      "interaction_item_deals_cat (Inp (None, 25, 27)       0                                            \n",
      "__________________________________________________________________________________________________\n",
      "change_of_sort_order_cat (Input (None, 25, 10)       0                                            \n",
      "__________________________________________________________________________________________________\n",
      "clickout_item_num (InputLayer)  (None, 25, 1)        0                                            \n",
      "__________________________________________________________________________________________________\n",
      "timestamp_diff_num (InputLayer) (None, 25, 1)        0                                            \n",
      "__________________________________________________________________________________________________\n",
      "count_action_num (InputLayer)   (None, 25, 1)        0                                            \n",
      "__________________________________________________________________________________________________\n",
      "platform (InputLayer)           (None, 1)            0                                            \n",
      "__________________________________________________________________________________________________\n",
      "concatenate_141 (Concatenate)   (None, 25, 160)      0           action_type_cat[0][0]            \n",
      "                                                                 clickout_item_cat[0][0]          \n",
      "                                                                 interaction_item_image_cat[0][0] \n",
      "                                                                 interaction_item_info_cat[0][0]  \n",
      "                                                                 interaction_item_rating_cat[0][0]\n",
      "                                                                 interaction_item_deals_cat[0][0] \n",
      "                                                                 change_of_sort_order_cat[0][0]   \n",
      "                                                                 clickout_item_num[0][0]          \n",
      "                                                                 timestamp_diff_num[0][0]         \n",
      "                                                                 count_action_num[0][0]           \n",
      "__________________________________________________________________________________________________\n",
      "embedding_85 (Embedding)        (None, 1, 5)         280         platform[0][0]                   \n",
      "__________________________________________________________________________________________________\n",
      "masking_43 (Masking)            (None, 25, 160)      0           concatenate_141[0][0]            \n",
      "__________________________________________________________________________________________________\n",
      "flatten_75 (Flatten)            (None, 5)            0           embedding_85[0][0]               \n",
      "__________________________________________________________________________________________________\n",
      "prices (InputLayer)             (None, 25)           0                                            \n",
      "__________________________________________________________________________________________________\n",
      "device (InputLayer)             (None, 1)            0                                            \n",
      "__________________________________________________________________________________________________\n",
      "lstm_63 (LSTM)                  (None, 64)           57600       masking_43[0][0]                 \n",
      "__________________________________________________________________________________________________\n",
      "concatenate_142 (Concatenate)   (None, 95)           0           flatten_75[0][0]                 \n",
      "                                                                 prices[0][0]                     \n",
      "                                                                 device[0][0]                     \n",
      "                                                                 lstm_63[0][0]                    \n",
      "__________________________________________________________________________________________________\n",
      "dense_141 (Dense)               (None, 128)          12288       concatenate_142[0][0]            \n",
      "__________________________________________________________________________________________________\n",
      "dropout_6 (Dropout)             (None, 128)          0           dense_141[0][0]                  \n",
      "__________________________________________________________________________________________________\n",
      "dense_142 (Dense)               (None, 128)          16512       dropout_6[0][0]                  \n",
      "__________________________________________________________________________________________________\n",
      "dense_143 (Dense)               (None, 26)           3354        dense_142[0][0]                  \n",
      "==================================================================================================\n",
      "Total params: 90,034\n",
      "Trainable params: 90,034\n",
      "Non-trainable params: 0\n",
      "__________________________________________________________________________________________________\n"
     ]
    }
   ],
   "source": [
    "platform_input = ks.layers.Input(shape=[1], name='platform')\n",
    "device_input = ks.layers.Input(shape=[1], name='device')\n",
    "city_input = ks.layers.Input(shape=[1], name='city')\n",
    "prices_input = ks.layers.Input(shape=[25], name='prices')\n",
    "\n",
    "seq_actiontype_cat_input = ks.layers.Input(shape=[PAD, len(vect.seq_vectorizers[\"action type cat\"].idx)], name=\"action_type_cat\")\n",
    "seq_clickout_cat_input = ks.layers.Input(shape=[PAD, len(vect.seq_vectorizers[\"clickout item cat\"].idx)], name=\"clickout_item_cat\")\n",
    "seq_int_img_cat_input = ks.layers.Input(shape=[PAD, len(vect.seq_vectorizers[\"interaction item image cat\"].idx)], name=\"interaction_item_image_cat\")\n",
    "seq_int_info_cat_input = ks.layers.Input(shape=[PAD, len(vect.seq_vectorizers[\"interaction item info cat\"].idx)], name=\"interaction_item_info_cat\")\n",
    "seq_int_rating_cat_input = ks.layers.Input(shape=[PAD, len(vect.seq_vectorizers[\"interaction item rating cat\"].idx)], name=\"interaction_item_rating_cat\")\n",
    "seq_int_deals_cat_input = ks.layers.Input(shape=[PAD, len(vect.seq_vectorizers[\"interaction item deals cat\"].idx)], name=\"interaction_item_deals_cat\")\n",
    "seq_change_sort_cat_input = ks.layers.Input(shape=[PAD, len(vect.seq_vectorizers[\"change of sort order cat\"].idx)], name=\"change_of_sort_order_cat\")\n",
    "\n",
    "seq_clickout_num_input = ks.layers.Input(shape=[PAD, 1], name=\"clickout_item_num\")\n",
    "seq_timestamp_diff_num_input = ks.layers.Input(shape=[PAD, 1], name=\"timestamp_diff_num\")\n",
    "seq_count_action_num_input = ks.layers.Input(shape=[PAD, 1], name=\"count_action_num\")\n",
    "\n",
    "concat_seq = ks.layers.concatenate([\n",
    "    seq_actiontype_cat_input,\n",
    "    seq_clickout_cat_input,\n",
    "    seq_int_img_cat_input,\n",
    "    seq_int_info_cat_input,\n",
    "    seq_int_rating_cat_input,\n",
    "    seq_int_deals_cat_input,\n",
    "    seq_change_sort_cat_input,\n",
    "    seq_clickout_num_input,\n",
    "    seq_timestamp_diff_num_input,\n",
    "    seq_count_action_num_input\n",
    "])\n",
    "\n",
    "masked = ks.layers.Masking(mask_value=-100.)(concat_seq)\n",
    "rnn_layer1 = ks.layers.LSTM(64)(masked)\n",
    "\n",
    "platform_emb = ks.layers.Embedding(len(vect.vectorizers[\"platform\"].idx), 5)(platform_input)\n",
    "city_emb = ks.layers.Embedding(len(vect.vectorizers[\"city\"].idx), 5)(city_input)\n",
    "\n",
    "concat = ks.layers.concatenate([\n",
    "    ks.layers.Flatten()(platform_emb), \n",
    "    prices_input,\n",
    "    device_input,\n",
    "    rnn_layer1\n",
    "])\n",
    "\n",
    "dense_1 = ks.layers.Dense(128, activation='relu')(concat)\n",
    "drop_1 = ks.layers.Dropout(0.25)(dense_1)\n",
    "dense_2 = ks.layers.Dense(128, activation='relu')(drop_1)\n",
    "output = ks.layers.Dense(26, activation=\"softmax\")(dense_2)\n",
    "\n",
    "model = ks.Model([platform_input, \n",
    "                  device_input,\n",
    "                  city_input,\n",
    "                  prices_input,\n",
    "                  seq_actiontype_cat_input, \n",
    "                  seq_clickout_num_input, \n",
    "                  seq_clickout_cat_input,\n",
    "                  seq_int_img_cat_input,\n",
    "                  seq_int_info_cat_input,\n",
    "                  seq_int_rating_cat_input,\n",
    "                  seq_int_deals_cat_input,\n",
    "                  seq_change_sort_cat_input,\n",
    "                  seq_timestamp_diff_num_input,\n",
    "                  seq_count_action_num_input], output)\n",
    "\n",
    "opt = ks.optimizers.Adam(lr=0.003, decay=0.000001)\n",
    "\n",
    "model.compile(loss='categorical_crossentropy', optimizer=opt, metrics=['accuracy'])\n",
    "model.summary()"
   ]
  },
  {
   "cell_type": "code",
   "execution_count": 453,
   "metadata": {},
   "outputs": [],
   "source": [
    "lb_encoder = LabelBinarizer()\n",
    "\n",
    "y_train_raw = [int(r['index_clicked']) if r['index_clicked'] != 'UNK' else 30 for r in train_data]\n",
    "y_val_raw = [int(r['index_clicked']) if r['index_clicked'] != 'UNK' else 30  for r in val_data]\n",
    "\n",
    "y_train_enc = lb_encoder.fit_transform(y_train_raw)\n",
    "y_val_enc = lb_encoder.transform(y_val_raw)"
   ]
  },
  {
   "cell_type": "code",
   "execution_count": 454,
   "metadata": {},
   "outputs": [
    {
     "name": "stdout",
     "output_type": "stream",
     "text": [
      "Train on 28105 samples, validate on 28105 samples\n",
      "Epoch 1/20\n",
      "28105/28105 [==============================] - 25s 888us/step - loss: 2.4829 - acc: 0.3669 - val_loss: 2.3290 - val_acc: 0.3856\n",
      "Epoch 2/20\n",
      "28105/28105 [==============================] - 14s 498us/step - loss: 2.2683 - acc: 0.3762 - val_loss: 2.1822 - val_acc: 0.3802\n",
      "Epoch 3/20\n",
      "28105/28105 [==============================] - 14s 497us/step - loss: 2.1723 - acc: 0.3962 - val_loss: 2.0955 - val_acc: 0.4294\n",
      "Epoch 4/20\n",
      "28105/28105 [==============================] - 14s 500us/step - loss: 2.0785 - acc: 0.4475 - val_loss: 1.9889 - val_acc: 0.4852\n",
      "Epoch 5/20\n",
      "28105/28105 [==============================] - 14s 502us/step - loss: 1.9871 - acc: 0.4832 - val_loss: 1.9174 - val_acc: 0.5111\n",
      "Epoch 6/20\n",
      "28105/28105 [==============================] - 14s 503us/step - loss: 1.9260 - acc: 0.5073 - val_loss: 1.8910 - val_acc: 0.5251\n",
      "Epoch 7/20\n",
      "28105/28105 [==============================] - 14s 503us/step - loss: 1.8924 - acc: 0.5173 - val_loss: 1.8487 - val_acc: 0.5305\n",
      "Epoch 8/20\n",
      "28105/28105 [==============================] - 14s 503us/step - loss: 1.8638 - acc: 0.5230 - val_loss: 1.8367 - val_acc: 0.5342\n",
      "Epoch 9/20\n",
      "28105/28105 [==============================] - 14s 503us/step - loss: 1.8465 - acc: 0.5269 - val_loss: 1.8295 - val_acc: 0.5360\n",
      "Epoch 10/20\n",
      "28105/28105 [==============================] - 14s 500us/step - loss: 1.8369 - acc: 0.5305 - val_loss: 1.8315 - val_acc: 0.5339\n",
      "Epoch 11/20\n",
      "28105/28105 [==============================] - 15s 528us/step - loss: 1.8234 - acc: 0.5310 - val_loss: 1.8255 - val_acc: 0.5367\n",
      "Epoch 12/20\n",
      "28105/28105 [==============================] - 14s 504us/step - loss: 1.8103 - acc: 0.5328 - val_loss: 1.8210 - val_acc: 0.5341\n",
      "Epoch 13/20\n",
      "28105/28105 [==============================] - 14s 500us/step - loss: 1.8005 - acc: 0.5336 - val_loss: 1.8360 - val_acc: 0.5339\n",
      "Epoch 14/20\n",
      "28105/28105 [==============================] - 14s 503us/step - loss: 1.7990 - acc: 0.5321 - val_loss: 1.8202 - val_acc: 0.5345\n",
      "Epoch 15/20\n",
      "28105/28105 [==============================] - 14s 506us/step - loss: 1.7858 - acc: 0.5354 - val_loss: 1.8307 - val_acc: 0.5342\n",
      "Epoch 16/20\n",
      "28105/28105 [==============================] - 14s 499us/step - loss: 1.7796 - acc: 0.5344 - val_loss: 1.8342 - val_acc: 0.5348\n",
      "Epoch 17/20\n",
      "28105/28105 [==============================] - 14s 501us/step - loss: 1.7653 - acc: 0.5356 - val_loss: 1.8337 - val_acc: 0.5325\n",
      "Epoch 18/20\n",
      "28105/28105 [==============================] - 14s 502us/step - loss: 1.7596 - acc: 0.5386 - val_loss: 1.8513 - val_acc: 0.5338\n",
      "Epoch 19/20\n",
      "28105/28105 [==============================] - 14s 501us/step - loss: 1.7598 - acc: 0.5377 - val_loss: 1.8401 - val_acc: 0.5351\n",
      "Epoch 20/20\n",
      "28105/28105 [==============================] - 14s 503us/step - loss: 1.7435 - acc: 0.5393 - val_loss: 1.8498 - val_acc: 0.5329\n"
     ]
    },
    {
     "data": {
      "text/plain": [
       "<keras.callbacks.History at 0x7f80da4d52e8>"
      ]
     },
     "execution_count": 454,
     "metadata": {},
     "output_type": "execute_result"
    }
   ],
   "source": [
    "model.fit(train_data_tr, \n",
    "          y_train_enc, \n",
    "          validation_data=(val_data_tr, y_val_enc), \n",
    "          epochs=20, \n",
    "          batch_size=512, \n",
    "          shuffle=True)"
   ]
  },
  {
   "cell_type": "code",
   "execution_count": 455,
   "metadata": {},
   "outputs": [
    {
     "name": "stdout",
     "output_type": "stream",
     "text": [
      "28105/28105 [==============================] - 9s 322us/step\n",
      "28105/28105 [==============================] - 5s 183us/step\n"
     ]
    }
   ],
   "source": [
    "train_preds = model.predict(train_data_tr, batch_size=512, verbose=True)\n",
    "val_preds = model.predict(val_data_tr, batch_size=512, verbose=True)"
   ]
  },
  {
   "cell_type": "code",
   "execution_count": 456,
   "metadata": {},
   "outputs": [
    {
     "data": {
      "text/plain": [
       "0     18539\n",
       "1      1744\n",
       "2      1198\n",
       "3       930\n",
       "4       840\n",
       "5       641\n",
       "7       505\n",
       "6       474\n",
       "12      330\n",
       "9       304\n",
       "10      287\n",
       "13      283\n",
       "8       275\n",
       "11      233\n",
       "15      225\n",
       "17      166\n",
       "14      162\n",
       "24      160\n",
       "18      150\n",
       "20      135\n",
       "16      124\n",
       "23      114\n",
       "19      113\n",
       "22      108\n",
       "21       65\n",
       "dtype: int64"
      ]
     },
     "execution_count": 456,
     "metadata": {},
     "output_type": "execute_result"
    }
   ],
   "source": [
    "pd.Series(val_preds.argmax(axis=1)).value_counts()"
   ]
  },
  {
   "cell_type": "code",
   "execution_count": 457,
   "metadata": {},
   "outputs": [
    {
     "data": {
      "text/plain": [
       "0.5501512186443693"
      ]
     },
     "execution_count": 457,
     "metadata": {},
     "output_type": "execute_result"
    }
   ],
   "source": [
    "(y_train_enc.argmax(axis=1) == train_preds.argmax(axis=1)).mean()"
   ]
  },
  {
   "cell_type": "code",
   "execution_count": 458,
   "metadata": {},
   "outputs": [
    {
     "data": {
      "text/plain": [
       "0.5328589219000178"
      ]
     },
     "execution_count": 458,
     "metadata": {},
     "output_type": "execute_result"
    }
   ],
   "source": [
    "(y_val_enc.argmax(axis=1) == val_preds.argmax(axis=1)).mean()"
   ]
  },
  {
   "cell_type": "code",
   "execution_count": 459,
   "metadata": {},
   "outputs": [
    {
     "data": {
      "text/plain": [
       "0.38548301014054437"
      ]
     },
     "execution_count": 459,
     "metadata": {},
     "output_type": "execute_result"
    }
   ],
   "source": [
    "(y_val_enc.argmax(axis=1) == 0).mean()"
   ]
  },
  {
   "cell_type": "code",
   "execution_count": 460,
   "metadata": {},
   "outputs": [
    {
     "data": {
      "text/plain": [
       "{'src': 'train',\n",
       " 'is_val': 0,\n",
       " 'is_test': 0,\n",
       " 'user_id': '0017FIR55K7R',\n",
       " 'session_id': 'dbd605dbee1e5',\n",
       " 'platform': 'AR',\n",
       " 'city': 'La Plata, Argentina',\n",
       " 'device': 'mobile',\n",
       " 'index_clicked': '0',\n",
       " 'final_prices': [25, 115, 48, 60, 221],\n",
       " 'sequences': {'action type cat': ['search for destination',\n",
       "   'clickout item',\n",
       "   'clickout item',\n",
       "   'clickout item'],\n",
       "  'clickout item cat': ['NA', '0', '0', '0'],\n",
       "  'interaction item info cat': ['NA', 'NA', 'NA', 'NA'],\n",
       "  'interaction item rating cat': ['NA', 'NA', 'NA', 'NA'],\n",
       "  'interaction item deals cat': ['NA', 'NA', 'NA', 'NA'],\n",
       "  'interaction item image cat': ['NA', 'NA', 'NA', 'NA'],\n",
       "  'search for item num': ['NA', 'NA', 'NA', 'NA'],\n",
       "  'clickout item num': [-1, 0, 0, 0],\n",
       "  'interaction item info num': [-1, -1, -1, -1],\n",
       "  'interaction item rating num': [-1, -1, -1, -1],\n",
       "  'interaction item deals num': [-1, -1, -1, -1],\n",
       "  'interaction item image num': [-1, -1, -1, -1],\n",
       "  'filter selection cat': ['NA', 'NA', 'NA', 'NA'],\n",
       "  'change of sort order cat': ['NA', 'NA', 'NA', 'NA'],\n",
       "  'search for destination cat': ['La Plata, Argentina', 'NA', 'NA', 'NA'],\n",
       "  'search for item cat': ['NA', 'NA', 'NA', 'NA'],\n",
       "  'search for poi cat': ['NA', 'NA', 'NA', 'NA'],\n",
       "  'count action num': [1, 1, 1, 1],\n",
       "  'time spent num': [0, 0, 0, 0],\n",
       "  'timestamp diff num': [132, 96, 181, 89]}}"
      ]
     },
     "execution_count": 460,
     "metadata": {},
     "output_type": "execute_result"
    }
   ],
   "source": [
    "train_data[0]"
   ]
  },
  {
   "cell_type": "code",
   "execution_count": 461,
   "metadata": {},
   "outputs": [],
   "source": [
    "def calc_mrr(val_preds, y_val_enc):\n",
    "    clickout_ids = []\n",
    "    preds = []\n",
    "    clicks = []\n",
    "    for n in range(val_preds.shape[0]):\n",
    "        n_items = len(val_data[n][\"final_prices\"])\n",
    "        for item in range(n_items):\n",
    "            clickout_ids.append(n)\n",
    "            preds.append(val_preds[n, item])\n",
    "            clicks.append(y_val_enc[n, item])\n",
    "    return mrr_fast_v2(clicks, preds, clickout_ids)"
   ]
  },
  {
   "cell_type": "code",
   "execution_count": 462,
   "metadata": {},
   "outputs": [
    {
     "data": {
      "text/plain": [
       "0.6380962950445032"
      ]
     },
     "execution_count": 462,
     "metadata": {},
     "output_type": "execute_result"
    }
   ],
   "source": [
    "calc_mrr(val_preds, y_val_enc)"
   ]
  },
  {
   "cell_type": "code",
   "execution_count": 463,
   "metadata": {},
   "outputs": [
    {
     "data": {
      "text/plain": [
       "0.6538517040471649"
      ]
     },
     "execution_count": 463,
     "metadata": {},
     "output_type": "execute_result"
    }
   ],
   "source": [
    "calc_mrr(train_preds, y_train_enc)"
   ]
  },
  {
   "cell_type": "code",
   "execution_count": null,
   "metadata": {},
   "outputs": [],
   "source": []
  }
 ],
 "metadata": {
  "jupytext": {
   "main_language": "python",
   "text_representation": {
    "extension": ".py",
    "format_name": "light",
    "format_version": "1.3",
    "jupytext_version": "1.0.2"
   }
  },
  "kernelspec": {
   "display_name": "Python 3",
   "language": "python",
   "name": "python3"
  },
  "language_info": {
   "codemirror_mode": {
    "name": "ipython",
    "version": 3
   },
   "file_extension": ".py",
   "mimetype": "text/x-python",
   "name": "python",
   "nbconvert_exporter": "python",
   "pygments_lexer": "ipython3",
   "version": "3.6.8"
  }
 },
 "nbformat": 4,
 "nbformat_minor": 2
}
